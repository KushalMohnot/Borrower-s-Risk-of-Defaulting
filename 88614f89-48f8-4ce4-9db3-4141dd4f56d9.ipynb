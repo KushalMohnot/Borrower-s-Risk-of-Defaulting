{
 "cells": [
  {
   "cell_type": "markdown",
   "metadata": {},
   "source": [
    "<div style=\"border:solid green 4px; padding: 20px\">Hello! My name is Zaur. My critical comments are highlighted with <span style='color: red;'>red</span>,  less urgent remarks are in <span style='color: #ebd731;'>yellow</span>, recommendations and extra information - in <span style='color: green;'>green</span>.</div>"
   ]
  },
  {
   "cell_type": "markdown",
   "metadata": {},
   "source": [
    "## Analyzing borrowers’ risk of defaulting\n",
    "\n",
    "Your project is to prepare a report for a bank’s loan division. You’ll need to find out if a customer’s marital status and number of children has an impact on whether they will default on a loan. The bank already has some data on customers’ credit worthiness.\n",
    "\n",
    "Your report will be considered when building a **credit scoring** of a potential customer. A ** credit scoring ** is used to evaluate the ability of a potential borrower to repay their loan."
   ]
  },
  {
   "cell_type": "markdown",
   "metadata": {},
   "source": [
    "### Step 1. Open the data file and have a look at the general information. "
   ]
  },
  {
   "cell_type": "code",
   "execution_count": 1,
   "metadata": {},
   "outputs": [
    {
     "name": "stdout",
     "output_type": "stream",
     "text": [
      "<class 'pandas.core.frame.DataFrame'>\n",
      "RangeIndex: 21525 entries, 0 to 21524\n",
      "Data columns (total 12 columns):\n",
      "children            21525 non-null int64\n",
      "days_employed       19351 non-null float64\n",
      "dob_years           21525 non-null int64\n",
      "education           21525 non-null object\n",
      "education_id        21525 non-null int64\n",
      "family_status       21525 non-null object\n",
      "family_status_id    21525 non-null int64\n",
      "gender              21525 non-null object\n",
      "income_type         21525 non-null object\n",
      "debt                21525 non-null int64\n",
      "total_income        19351 non-null float64\n",
      "purpose             21525 non-null object\n",
      "dtypes: float64(2), int64(5), object(5)\n",
      "memory usage: 2.0+ MB\n"
     ]
    }
   ],
   "source": [
    "import pandas as pd\n",
    "#importing the dataset\n",
    "x = pd.read_csv('/datasets/credit_scoring_eng.csv')\n",
    "#cursory glances at what our data looks like\n",
    "x.head()\n",
    "x.info()"
   ]
  },
  {
   "cell_type": "markdown",
   "metadata": {},
   "source": [
    "### Conclusion"
   ]
  },
  {
   "cell_type": "markdown",
   "metadata": {},
   "source": [
    "There are inconsistencies in the type of quantatative variables; some are int64 and some are float64. We might want to convert them all to the same type. Some string types, like gender could be coded as a integer too, since all the gender is either male or female. There are also some glaring missing values."
   ]
  },
  {
   "cell_type": "markdown",
   "metadata": {},
   "source": [
    "### Step 2. Data preprocessing"
   ]
  },
  {
   "cell_type": "markdown",
   "metadata": {},
   "source": [
    "### Processing missing values"
   ]
  },
  {
   "cell_type": "code",
   "execution_count": 2,
   "metadata": {},
   "outputs": [
    {
     "name": "stdout",
     "output_type": "stream",
     "text": [
      " 0     14149\n",
      " 1      4818\n",
      " 2      2055\n",
      " 3       330\n",
      " 20       76\n",
      "-1        47\n",
      " 4        41\n",
      " 5         9\n",
      "Name: children, dtype: int64\n",
      "0     14149\n",
      "1      4818\n",
      "2      2055\n",
      "3       330\n",
      "20       76\n",
      "4        41\n",
      "5         9\n",
      "Name: children, dtype: int64\n"
     ]
    }
   ],
   "source": [
    "col = x.columns\n",
    "#print(col)\n",
    "\n",
    "#for i in col:\n",
    "    #print(x[i].isna().count())\n",
    "    \n",
    "#making a vector of the names of the columns that are of string type   \n",
    "str_col = ['education', 'family_status','gender', 'income_type','purpose']\n",
    "\n",
    "#Filling empty cells with a blank string\n",
    "for i in str_col:\n",
    "    x[i] = x[i].fillna(value='')\n",
    "    #print(x[i].value_counts())\n",
    "    \n",
    "#making a vector of the names of the columns that are of numeric type     \n",
    "num_avg_col = ['children','days_employed','dob_years','total_income']\n",
    "#Filling empty cells with a the average of that column\n",
    "for i in num_avg_col:\n",
    "    avg = x[i].mean()\n",
    "    x[i] = x[i].fillna(value=avg)\n",
    "    \n",
    "print(x['children'].value_counts())\n",
    "\n",
    "#for i in x['children']:\n",
    " #   x.loc[(x['children'] < 0), 'children']= None\n",
    "  #      \n",
    "#print(x['children'].value_counts())\n",
    "\n",
    "#Deleting the rows where children are -1 years old\n",
    "childindex = x[x['children'] < 0].index\n",
    "x.drop(childindex,inplace = True)\n",
    "print(x['children'].value_counts())\n"
   ]
  },
  {
   "cell_type": "markdown",
   "metadata": {},
   "source": [
    "<div style=\"border:solid green 4px; padding: 20px\">Is there any difference for us if a string value is null or \"\"?</div>"
   ]
  },
  {
   "cell_type": "markdown",
   "metadata": {},
   "source": [
    "### Conclusion"
   ]
  },
  {
   "cell_type": "markdown",
   "metadata": {},
   "source": [
    "For columns that contained strings, empty cells were replaced with an empty string. For columns that were numbers that made sense to be represented as averages in the event of no data, that's what I did. The children column has 47 people with -1 children, so I made those values 'null'. But later in the code when I tried converting it to integer, I encountered a bug. Since these are only 47 rows, I decided to delete these rows. As to why we have this data, I am not sure since it doesn't seem like a human data entry error, so in some step along the way this data might have got corrupted."
   ]
  },
  {
   "cell_type": "markdown",
   "metadata": {},
   "source": [
    "### Data type replacement"
   ]
  },
  {
   "cell_type": "code",
   "execution_count": 3,
   "metadata": {},
   "outputs": [
    {
     "name": "stdout",
     "output_type": "stream",
     "text": [
      "<class 'pandas.core.frame.DataFrame'>\n",
      "Int64Index: 21478 entries, 0 to 21524\n",
      "Data columns (total 12 columns):\n",
      "children            21478 non-null int64\n",
      "days_employed       21478 non-null int64\n",
      "dob_years           21478 non-null int64\n",
      "education           21478 non-null object\n",
      "education_id        21478 non-null int64\n",
      "family_status       21478 non-null object\n",
      "family_status_id    21478 non-null int64\n",
      "gender              21478 non-null object\n",
      "income_type         21478 non-null object\n",
      "debt                21478 non-null int64\n",
      "total_income        21478 non-null int64\n",
      "purpose             21478 non-null object\n",
      "dtypes: int64(7), object(5)\n",
      "memory usage: 2.1+ MB\n"
     ]
    }
   ],
   "source": [
    "#Making a vector of all the columns that are of type float\n",
    "float_col = ['children','days_employed', 'total_income']\n",
    "#Converting all float columns to int\n",
    "for i in float_col:\n",
    "    x[i] = x[i].astype(int)\n",
    "    \n",
    "x.info()"
   ]
  },
  {
   "cell_type": "markdown",
   "metadata": {},
   "source": [
    "<div style=\"border:solid #ebd731; 4px; padding: 20px\">You can just apply .astype() to any number of columns with a single slice:<br>\n",
    "    x[float_col] = x[float_col].astype(int)</div>"
   ]
  },
  {
   "cell_type": "markdown",
   "metadata": {},
   "source": [
    "### Conclusion"
   ]
  },
  {
   "cell_type": "markdown",
   "metadata": {},
   "source": [
    "We successfully converted all the float columns to integer columns. We also see in the info output that there are no non-null objects."
   ]
  },
  {
   "cell_type": "markdown",
   "metadata": {},
   "source": [
    "### Processing duplicates"
   ]
  },
  {
   "cell_type": "code",
   "execution_count": 10,
   "metadata": {},
   "outputs": [
    {
     "name": "stdout",
     "output_type": "stream",
     "text": [
      "<class 'pandas.core.frame.DataFrame'>\n",
      "Int64Index: 21478 entries, 0 to 21524\n",
      "Data columns (total 15 columns):\n",
      "children            21478 non-null int64\n",
      "days_employed       21478 non-null int64\n",
      "dob_years           21478 non-null int64\n",
      "education           21478 non-null object\n",
      "education_id        21478 non-null int64\n",
      "family_status       21478 non-null object\n",
      "family_status_id    21478 non-null int64\n",
      "gender              21478 non-null object\n",
      "income_type         21478 non-null object\n",
      "debt                21478 non-null int64\n",
      "total_income        21478 non-null int64\n",
      "purpose             21478 non-null object\n",
      "kids                21478 non-null bool\n",
      "income_group        21478 non-null object\n",
      "purpose_type        20982 non-null object\n",
      "dtypes: bool(1), int64(7), object(7)\n",
      "memory usage: 2.5+ MB\n",
      "None\n"
     ]
    }
   ],
   "source": [
    "#First, we convert all the strings to lowercase\n",
    "for i in str_col:\n",
    "    x[i] = x[i].str.lower()\n",
    "    #print(x[i].value_counts())\n",
    "#Dropping rows that have the same value for the pararmeters we specified\n",
    "x.drop_duplicates(['children','days_employed','dob_years','total_income'],keep= 'last')\n",
    "print(x.info())"
   ]
  },
  {
   "cell_type": "markdown",
   "metadata": {},
   "source": [
    "### Conclusion"
   ]
  },
  {
   "cell_type": "markdown",
   "metadata": {},
   "source": [
    "We converted all strings to lowercase since there were strings that were the exact same but just written with different cases for certain letters. We do not have a uniquie identifier for each person, so we will have to assume that the probability of two people have the same children,days employed, dob, and total income is negligible and consider them duplicates. Using this criterion, it seems like there are no duplicates since the drop duplicates method has not reduced the number of rows."
   ]
  },
  {
   "cell_type": "markdown",
   "metadata": {},
   "source": [
    "### Categorizing Data"
   ]
  },
  {
   "cell_type": "code",
   "execution_count": 12,
   "metadata": {
    "scrolled": false
   },
   "outputs": [
    {
     "name": "stdout",
     "output_type": "stream",
     "text": [
      "married              12351\n",
      "civil partnership     4172\n",
      "unmarried             2808\n",
      "divorced              1191\n",
      "widow / widower        956\n",
      "Name: family_status, dtype: int64\n",
      "0     14149\n",
      "1      4818\n",
      "2      2055\n",
      "3       330\n",
      "20       76\n",
      "4        41\n",
      "5         9\n",
      "Name: children, dtype: int64\n",
      "mid income     10737\n",
      "low income      5371\n",
      "high income     5370\n",
      "Name: income_group, dtype: int64\n",
      "real estate    7655\n",
      "car            4304\n",
      "education      3516\n",
      "house          3161\n",
      "wedding        2346\n",
      "Name: purpose_type, dtype: int64\n"
     ]
    }
   ],
   "source": [
    "print(x['family_status'].value_counts())\n",
    "print(x['children'].value_counts())\n",
    "\n",
    "#creating a boolean vector where true means you have kids and false means you do not\n",
    "x['kids'] = x['children']>0\n",
    "\n",
    "#Finding the 1st and 3rd quartiles of the total income to find a suitable cut off for the income brackets\n",
    "q1 = x['total_income'].quantile(0.25)\n",
    "q3 = x['total_income'].quantile(0.75)\n",
    "\n",
    "#categorizing the income groups\n",
    "def income_group(income):\n",
    "    \n",
    "    if income <= q1:\n",
    "        return 'low income'\n",
    "    if income <= q3:\n",
    "        return 'mid income'\n",
    "    return 'high income'\n",
    "\n",
    "\n",
    "x['income_group'] = x['total_income'].apply(income_group)\n",
    "print(x['income_group'].value_counts())\n",
    "\n",
    "#categorizing the purposes based on what words they contain.\n",
    "#Took help from Lindsey Naylor and Aleksandr Kravtsov on the Slack channel to write this part\n",
    "def group_purpose(purp):\n",
    "    wedding_words = ['wedding']\n",
    "    real_estate_words = ['real estate', 'transaction', 'transactions', 'property']\n",
    "    home_words = ['house', 'housing']\n",
    "    car_words = ['car', 'cars']\n",
    "    school_words = ['education', 'educated']\n",
    "    \n",
    "    for wedding_word in wedding_words:\n",
    "        if wedding_word in purp:\n",
    "            return 'wedding'\n",
    "    for real_estate_word in real_estate_words:\n",
    "        if real_estate_word in purp:\n",
    "            return 'real estate'\n",
    "    for home_word in home_words:\n",
    "        if home_word in purp:\n",
    "            return 'house'\n",
    "    for car_word in car_words:\n",
    "        if car_word in purp:\n",
    "            return 'car'\n",
    "    for school_word in school_words:\n",
    "        if school_word in purp:\n",
    "            return 'education'\n",
    "x['purpose_type'] = x['purpose'].apply(group_purpose)\n",
    "\n",
    "print(x['purpose_type'].value_counts())"
   ]
  },
  {
   "cell_type": "markdown",
   "metadata": {},
   "source": [
    "<div style=\"border:solid green 4px; padding: 20px\">I really appreciate you mentioning your helpers 😃</div>"
   ]
  },
  {
   "cell_type": "markdown",
   "metadata": {},
   "source": [
    "<div style=\"border:solid #ebd731; 4px; padding: 20px\">Look <a href=\"https://pandas.pydata.org/pandas-docs/stable/reference/api/pandas.qcut.html\">this</a>.</div>"
   ]
  },
  {
   "cell_type": "markdown",
   "metadata": {},
   "source": [
    "### Conclusion"
   ]
  },
  {
   "cell_type": "markdown",
   "metadata": {},
   "source": [
    "Marital status is already categorized, having children or not has a binary column and 'purpose' has been grouped into categories based on how similar they were. I used the 1st and 3rd quartiles to create 3 bins for income levels."
   ]
  },
  {
   "cell_type": "markdown",
   "metadata": {},
   "source": [
    "### Step 3. Answer these questions"
   ]
  },
  {
   "cell_type": "markdown",
   "metadata": {},
   "source": [
    "- Is there a relation between having kids and repaying a loan on time?"
   ]
  },
  {
   "cell_type": "code",
   "execution_count": 14,
   "metadata": {},
   "outputs": [
    {
     "name": "stdout",
     "output_type": "stream",
     "text": [
      "debt       0     1  debt - no debt ratio  debt ratio\n",
      "kids                                                \n",
      "False  13086  1063              8.123185    4.949250\n",
      "True    6652   677             10.177390    3.152063\n"
     ]
    }
   ],
   "source": [
    "#Creating a pivot table and a column that is the ratio of the debt to no-debt column\n",
    "piv = x.pivot_table(index=['kids'],columns = 'debt', values = 'children', aggfunc = 'count')\n",
    "total = piv.sum().sum()\n",
    "piv['debt - no debt ratio'] = piv[1]/piv[0]*100\n",
    "piv['debt ratio'] = piv[1]/total*100\n",
    "print(piv)\n"
   ]
  },
  {
   "cell_type": "markdown",
   "metadata": {},
   "source": [
    "<div style=\"border:solid green 4px; padding: 20px\">Good. You know, by the nature of \"debt\" being binary - mean of that column gives the same needed result (shares).</div>"
   ]
  },
  {
   "cell_type": "markdown",
   "metadata": {},
   "source": [
    "### Conclusion"
   ]
  },
  {
   "cell_type": "markdown",
   "metadata": {},
   "source": [
    "The value of 8.12 as compared to 10.18 suggests that people with kids are more likely to be in debt that people without kids."
   ]
  },
  {
   "cell_type": "markdown",
   "metadata": {},
   "source": [
    "- Is there a relation between marital status and repaying a loan on time?"
   ]
  },
  {
   "cell_type": "code",
   "execution_count": 7,
   "metadata": {},
   "outputs": [
    {
     "name": "stdout",
     "output_type": "stream",
     "text": [
      "debt                  0    1  debt - no debt ratio\n",
      "family_status_id                                  \n",
      "0                 11421  930              8.142895\n",
      "1                  3784  388             10.253700\n",
      "2                   893   63              7.054871\n",
      "3                  1106   85              7.685353\n",
      "4                  2534  274             10.812944\n"
     ]
    }
   ],
   "source": [
    "#Creating a pivot table and a column that is the ratio of the debt to no-debt column\n",
    "piv = x.pivot_table(index=['family_status_id'],columns = 'debt', values = 'family_status', aggfunc = 'count')\n",
    "total = piv.sum().sum()\n",
    "piv['debt - no debt ratio'] = piv[1]/piv[0]*100\n",
    "#piv['debt ratio'] = piv[1]/total*100\n",
    "#piv_new = piv.rename(columns = {'0': 'No debt', '1':'Debt'}, index={'False': 'No Kids','True':'Have kids'})\n",
    "print(piv)\n"
   ]
  },
  {
   "cell_type": "markdown",
   "metadata": {},
   "source": [
    "### Conclusion"
   ]
  },
  {
   "cell_type": "markdown",
   "metadata": {},
   "source": [
    "Unmarried and civil partnership are more likely to be in debt as compared to the other marital statuses."
   ]
  },
  {
   "cell_type": "markdown",
   "metadata": {},
   "source": [
    "- Is there a relation between income level and repaying a loan on time?"
   ]
  },
  {
   "cell_type": "code",
   "execution_count": 8,
   "metadata": {},
   "outputs": [
    {
     "name": "stdout",
     "output_type": "stream",
     "text": [
      "debt             0    1  debt - no debt ratio\n",
      "income_group                                 \n",
      "high income   4985  385              7.723170\n",
      "low income    4944  427              8.636731\n",
      "mid income    9809  928              9.460699\n"
     ]
    }
   ],
   "source": [
    "#Creating a pivot table and a column that is the ratio of the debt to no-debt column\n",
    "piv = x.pivot_table(index=['income_group'],columns = 'debt', values = 'total_income', aggfunc = 'count')\n",
    "total = piv.sum().sum()\n",
    "piv['debt - no debt ratio'] = piv[1]/piv[0]*100\n",
    "#piv['debt ratio'] = piv[1]/total*100\n",
    "#piv_new = piv.rename(columns = {'0': 'No debt', '1':'Debt'}, index={'False': 'No Kids','True':'Have kids'})\n",
    "print(piv)"
   ]
  },
  {
   "cell_type": "markdown",
   "metadata": {},
   "source": [
    "### Conclusion"
   ]
  },
  {
   "cell_type": "markdown",
   "metadata": {},
   "source": [
    "It seems like mid income group is most susceptible to being in debt. Low income is slightly less and high income group is least likely to be in debt."
   ]
  },
  {
   "cell_type": "markdown",
   "metadata": {},
   "source": [
    "- How do different loan purposes affect on-time repayment of the loan?"
   ]
  },
  {
   "cell_type": "code",
   "execution_count": 9,
   "metadata": {},
   "outputs": [
    {
     "name": "stdout",
     "output_type": "stream",
     "text": [
      "debt             0    1  debt - no debt ratio\n",
      "purpose_type                                 \n",
      "car           3902  402             10.302409\n",
      "education     3189  327             10.253998\n",
      "house         2953  208              7.043684\n",
      "real estate   7081  574              8.106200\n",
      "wedding       2160  186              8.611111\n"
     ]
    }
   ],
   "source": [
    "#Creating a pivot table and a column that is the ratio of the debt to no-debt column\n",
    "piv = x.pivot_table(index=['purpose_type'],columns = 'debt',values = 'purpose', aggfunc = 'count')\n",
    "total = piv.sum().sum()\n",
    "piv['debt - no debt ratio'] = piv[1]/piv[0]*100\n",
    "#piv['debt ratio'] = piv[1]/total*100\n",
    "#piv_new = piv.rename(columns = {'0': 'No debt', '1':'Debt'}, index={'False': 'No Kids','True':'Have kids'})\n",
    "print(piv)"
   ]
  },
  {
   "cell_type": "markdown",
   "metadata": {},
   "source": [
    "### Conclusion"
   ]
  },
  {
   "cell_type": "markdown",
   "metadata": {},
   "source": [
    "People with purposes related house are least likely to be in debt."
   ]
  },
  {
   "cell_type": "markdown",
   "metadata": {},
   "source": [
    "### Step 4. General conclusion"
   ]
  },
  {
   "cell_type": "markdown",
   "metadata": {},
   "source": [
    "Overall, it seems like loan purpose, marital status, income level and whether you have kids or not are good indicators of how likely it is that you are in debt. We can similarly look at the other attributes like gender and see if there is conclusive evidence that suggests how likely you are to go into debt (of course, the ethics of making decisions based on something like gender is something that should be considered too). Further directions could include having a way to incorporate all these factors by giving each parameter a weight and calculating an overall likelihood of being in debt based on that. "
   ]
  },
  {
   "cell_type": "markdown",
   "metadata": {},
   "source": [
    "### Project Readiness Checklist\n",
    "\n",
    "Put 'x' in the completed points. Then press Shift + Enter."
   ]
  },
  {
   "cell_type": "markdown",
   "metadata": {},
   "source": [
    "<div style=\"border:solid green 4px; padding: 20px\">Okay, well done. I like that your conclusions are neat and succinct.<br>\n",
    "Although I had some recommendations, as you see, I appreciate your time and effort and look forward to see you going into further projects. Revise my commentary to use it next time. See you!</div>"
   ]
  }
 ],
 "metadata": {
  "kernelspec": {
   "display_name": "Python 3",
   "language": "python",
   "name": "python3"
  },
  "language_info": {
   "codemirror_mode": {
    "name": "ipython",
    "version": 3
   },
   "file_extension": ".py",
   "mimetype": "text/x-python",
   "name": "python",
   "nbconvert_exporter": "python",
   "pygments_lexer": "ipython3",
   "version": "3.7.6"
  }
 },
 "nbformat": 4,
 "nbformat_minor": 2
}
